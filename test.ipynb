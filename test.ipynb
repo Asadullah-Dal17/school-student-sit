{
 "cells": [
  {
   "cell_type": "markdown",
   "metadata": {},
   "source": [
    "# Access The Google sheets \n"
   ]
  },
  {
   "cell_type": "code",
   "execution_count": 11,
   "metadata": {},
   "outputs": [],
   "source": [
    "import streamlit as st\n",
    "from streamlit_gsheets import GSheetsConnection \n",
    "def get_data_from_google_sheet():\n",
    "        \n",
    "        url = \"https://docs.google.com/spreadsheets/d/1uhf3bRb628AfLz840pN7DmKEEkhGHhfRhy-U7Imlibk/edit?usp=sharing\"\n",
    "        conn = st.connection(\"gsheets\", type=GSheetsConnection)\n",
    "        data = conn.read(spreadsheet=url)\n",
    "        # st.dataframe(data)\n",
    "        # print(type(data))\n",
    "        return data"
   ]
  },
  {
   "cell_type": "code",
   "execution_count": 12,
   "metadata": {},
   "outputs": [
    {
     "name": "stderr",
     "output_type": "stream",
     "text": [
      "2024-09-08 20:56:55.417 WARNING streamlit.runtime.scriptrunner_utils.script_run_context: Thread 'MainThread': missing ScriptRunContext! This warning can be ignored when running in bare mode.\n",
      "2024-09-08 20:56:56.281 \n",
      "  \u001b[33m\u001b[1mWarning:\u001b[0m to view this Streamlit app on a browser, run it with the following\n",
      "  command:\n",
      "\n",
      "    streamlit run c:\\Users\\Asadullah\\Project\\recent-project\\school-student-sit\\.venv\\lib\\site-packages\\ipykernel_launcher.py [ARGUMENTS]\n",
      "2024-09-08 20:56:56.282 Thread 'MainThread': missing ScriptRunContext! This warning can be ignored when running in bare mode.\n",
      "2024-09-08 20:56:56.283 Thread 'MainThread': missing ScriptRunContext! This warning can be ignored when running in bare mode.\n",
      "2024-09-08 20:56:56.287 Thread 'MainThread': missing ScriptRunContext! This warning can be ignored when running in bare mode.\n",
      "2024-09-08 20:56:56.289 Thread 'MainThread': missing ScriptRunContext! This warning can be ignored when running in bare mode.\n",
      "2024-09-08 20:56:56.320 No runtime found, using MemoryCacheStorageManager\n",
      "2024-09-08 20:56:56.328 Thread 'MainThread': missing ScriptRunContext! This warning can be ignored when running in bare mode.\n",
      "2024-09-08 20:56:56.330 Thread 'MainThread': missing ScriptRunContext! This warning can be ignored when running in bare mode.\n",
      "2024-09-08 20:56:56.332 Thread 'MainThread': missing ScriptRunContext! This warning can be ignored when running in bare mode.\n",
      "2024-09-08 20:56:56.339 No runtime found, using MemoryCacheStorageManager\n",
      "2024-09-08 20:56:56.848 Thread 'Thread-61': missing ScriptRunContext! This warning can be ignored when running in bare mode.\n",
      "2024-09-08 20:56:56.853 Thread 'Thread-61': missing ScriptRunContext! This warning can be ignored when running in bare mode.\n",
      "2024-09-08 20:56:58.900 Thread 'MainThread': missing ScriptRunContext! This warning can be ignored when running in bare mode.\n",
      "2024-09-08 20:56:58.901 Thread 'MainThread': missing ScriptRunContext! This warning can be ignored when running in bare mode.\n"
     ]
    },
    {
     "data": {
      "text/plain": [
       "pandas.core.frame.DataFrame"
      ]
     },
     "execution_count": 12,
     "metadata": {},
     "output_type": "execute_result"
    }
   ],
   "source": [
    "import pandas as pd\n",
    "data = get_data_from_google_sheet()\n",
    "# data = pd.read_csv(\"data.csv\")\n",
    "# data\n",
    "type(data)"
   ]
  },
  {
   "cell_type": "code",
   "execution_count": 17,
   "metadata": {},
   "outputs": [],
   "source": [
    "grouped_df = data.groupby(\"Group\")\n",
    "green_df = grouped_df.get_group(\"Green\")\n",
    "white_df = grouped_df.get_group(\"White\")\n",
    "red_df = grouped_df.get_group(\"Red\")\n",
    "blue_df = grouped_df.get_group(\"Blue\")\n",
    "brown_df = grouped_df.get_group(\"Brown\")\n",
    "yellow_df = grouped_df.get_group(\"Yellow\")"
   ]
  },
  {
   "cell_type": "code",
   "execution_count": 24,
   "metadata": {},
   "outputs": [
    {
     "name": "stdout",
     "output_type": "stream",
     "text": [
      "data found\n"
     ]
    }
   ],
   "source": [
    "# white_df\n",
    "if False ==blue_df.empty:\n",
    "    print(\"data found\")\n",
    "else:\n",
    "    print(\"data not found\")"
   ]
  },
  {
   "cell_type": "code",
   "execution_count": 27,
   "metadata": {},
   "outputs": [
    {
     "name": "stdout",
     "output_type": "stream",
     "text": [
      "data not found\n"
     ]
    }
   ],
   "source": [
    "if red_df.empty:\n",
    "    print(\"data found\")\n",
    "else:\n",
    "    print(\"data not found\")"
   ]
  }
 ],
 "metadata": {
  "kernelspec": {
   "display_name": ".venv",
   "language": "python",
   "name": "python3"
  },
  "language_info": {
   "codemirror_mode": {
    "name": "ipython",
    "version": 3
   },
   "file_extension": ".py",
   "mimetype": "text/x-python",
   "name": "python",
   "nbconvert_exporter": "python",
   "pygments_lexer": "ipython3",
   "version": "3.10.10"
  }
 },
 "nbformat": 4,
 "nbformat_minor": 2
}
